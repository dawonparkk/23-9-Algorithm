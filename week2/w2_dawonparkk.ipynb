{
  "nbformat": 4,
  "nbformat_minor": 0,
  "metadata": {
    "colab": {
      "provenance": [],
      "toc_visible": true
    },
    "kernelspec": {
      "name": "python3",
      "display_name": "Python 3"
    },
    "language_info": {
      "name": "python"
    }
  },
  "cells": [
    {
      "cell_type": "markdown",
      "source": [
        "## (1) 2주차별 고정 문제\n",
        "- 2주차:[기능 개발(pgm-lv2)](hhttps://school.programmers.co.kr/learn/courses/30/lessons/42586)"
      ],
      "metadata": {
        "id": "rwXUFzMVT7aV"
      }
    },
    {
      "cell_type": "code",
      "source": [
        "def solution(progresses, speeds):\n",
        "    answer = []\n",
        "    while progresses :\n",
        "        cnt = 0\n",
        "        while progresses and progresses[0] >= 100:\n",
        "            cnt+=1\n",
        "            progresses.pop(0)\n",
        "            speeds.pop(0)\n",
        "        progresses = [progresses[i]+speeds[i] for i in range(len(progresses))]\n",
        "\n",
        "        print('i',progresses)\n",
        "    \n",
        "        if cnt:\n",
        "            answer.append(cnt)\n",
        "    \n",
        "    return answer"
      ],
      "metadata": {
        "id": "6J2PAJeHT-4-"
      },
      "execution_count": null,
      "outputs": []
    },
    {
      "cell_type": "markdown",
      "source": [
        "## (2) 2주차별 자유 문제 (154539)\n",
        "- [뒤에 있는 큰 수 찾기](https://school.programmers.co.kr/learn/courses/30/lessons/154539)"
      ],
      "metadata": {
        "id": "nZ2fvrgUUNXW"
      }
    },
    {
      "cell_type": "code",
      "source": [
        "def solution(numbers):\n",
        "    stack = []\n",
        "    answer = [-1] * len(numbers)\n",
        "\n",
        "    for i in range(0,len(numbers)):\n",
        "        print('i',i)\n",
        "        while stack and numbers[stack[-1]] < numbers[i]:\n",
        "            answer[stack.pop()] = numbers[i]\n",
        "            print('aaaa' , answer)\n",
        "        stack.append(i)\n",
        "        print('s',stack)\n",
        "        print('a',answer,i)\n",
        "    return  answer"
      ],
      "metadata": {
        "id": "1p4uHXQpUM5C"
      },
      "execution_count": null,
      "outputs": []
    },
    {
      "cell_type": "markdown",
      "source": [
        "## (3) 2주차별 자유 문제 (92341) \n",
        "- LEVEL2: [주차 요금 계산](https://school.programmers.co.kr/learn/courses/30/lessons/92341)"
      ],
      "metadata": {
        "id": "5ql75BDwU7_0"
      }
    },
    {
      "cell_type": "code",
      "source": [
        "import math\n",
        " \n",
        "def solution(fees, records):\n",
        "    car_info = {}\n",
        "    fee_list = []\n",
        "    max_time = 23 * 60 + 59\n",
        "    for record in records:\n",
        "        t, c, _ = record.split(\" \")\n",
        "        t = int(t[:2]) * 60 + int(t[3:])\n",
        "        if c not in car_info:\n",
        "            car_info[c] = [0, 0]\n",
        "        car_info[c][0] += ((max_time - t) * (-1) ** (car_info[c][1]))\n",
        "        car_info[c][1] += 1\n",
        "    for _, t in sorted(car_info.items(), key = lambda x : x[0]):\n",
        "        extra_t = t[0] - fees[0] if t[0] > fees[0] else 0\n",
        "        fee = fees[1] + math.ceil((extra_t) / fees[2]) * (fees[3])\n",
        "        fee_list.append(fee)\n",
        "    return fee_list"
      ],
      "metadata": {
        "id": "PE2Cp26GVF6u"
      },
      "execution_count": null,
      "outputs": []
    },
    {
      "cell_type": "markdown",
      "source": [
        "## (4) 2주차별 자유 문제 (42895, DP)\n",
        "- Level 3: [N으로 표현](https://school.programmers.co.kr/learn/courses/30/lessons/42895)"
      ],
      "metadata": {
        "id": "PAfdFcK4VG1X"
      }
    },
    {
      "cell_type": "code",
      "source": [
        "def solution(N, number):\n",
        "    arr = [0]\n",
        "    for i in range(1, 9):\n",
        "        temp = make(i, N, arr)\n",
        "        if number in temp:\n",
        "            return i\n",
        "        arr.append(temp)\n",
        "    return -1\n",
        "\n",
        "\n",
        "def make(i, N, arr):\n",
        "    result = set()\n",
        "    temp = int(str(N) * i)\n",
        "    result.add(temp)\n",
        "    for half in range(1, i//2+1):\n",
        "        for x in arr[half]:\n",
        "            for y in arr[i-half]:\n",
        "                result.add(x+y)\n",
        "                result.add(x-y)\n",
        "                result.add(y-x)\n",
        "                result.add(x*y)\n",
        "                if y != 0:\n",
        "                    result.add(x//y)\n",
        "                if x != 0:\n",
        "                    result.add(y//x)\n",
        "    return result"
      ],
      "metadata": {
        "id": "XtoXxJ1RVR0l"
      },
      "execution_count": null,
      "outputs": []
    }
  ]
}